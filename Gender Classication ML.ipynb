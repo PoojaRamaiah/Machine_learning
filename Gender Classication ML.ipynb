{
 "cells": [
  {
   "cell_type": "markdown",
   "id": "3b9c0f6d",
   "metadata": {},
   "source": [
    "# GENDER CLASSIFICATION"
   ]
  },
  {
   "cell_type": "code",
   "execution_count": 1,
   "id": "8bdbe724",
   "metadata": {
    "_cell_guid": "b1076dfc-b9ad-4769-8c92-a6c4dae69d19",
    "_uuid": "8f2839f25d086af736a60e9eeb907d3b93b6e0e5",
    "execution": {
     "iopub.execute_input": "2021-10-24T15:25:12.615256Z",
     "iopub.status.busy": "2021-10-24T15:25:12.613972Z",
     "iopub.status.idle": "2021-10-24T15:25:13.570920Z",
     "shell.execute_reply": "2021-10-24T15:25:13.570212Z",
     "shell.execute_reply.started": "2021-10-24T15:16:09.21867Z"
    },
    "papermill": {
     "duration": 0.979375,
     "end_time": "2021-10-24T15:25:13.571100",
     "exception": false,
     "start_time": "2021-10-24T15:25:12.591725",
     "status": "completed"
    },
    "tags": []
   },
   "outputs": [],
   "source": [
    "import pandas as pd\n",
    "import numpy as np\n",
    "import matplotlib.pyplot as plt\n",
    "import seaborn as sns"
   ]
  },
  {
   "cell_type": "code",
   "execution_count": 2,
   "id": "bf76fff3",
   "metadata": {
    "execution": {
     "iopub.execute_input": "2021-10-24T15:25:13.608879Z",
     "iopub.status.busy": "2021-10-24T15:25:13.608232Z",
     "iopub.status.idle": "2021-10-24T15:25:13.632463Z",
     "shell.execute_reply": "2021-10-24T15:25:13.633002Z",
     "shell.execute_reply.started": "2021-10-24T15:16:37.009954Z"
    },
    "papermill": {
     "duration": 0.045596,
     "end_time": "2021-10-24T15:25:13.633228",
     "exception": false,
     "start_time": "2021-10-24T15:25:13.587632",
     "status": "completed"
    },
    "tags": []
   },
   "outputs": [],
   "source": [
    "data=pd.read_csv('C:/Users/Pooja Ramaiah/Downloads/archive (4)/gender_classification_v7.csv')"
   ]
  },
  {
   "cell_type": "code",
   "execution_count": 3,
   "id": "a3c86f5f",
   "metadata": {
    "execution": {
     "iopub.execute_input": "2021-10-24T15:25:13.670625Z",
     "iopub.status.busy": "2021-10-24T15:25:13.667064Z",
     "iopub.status.idle": "2021-10-24T15:25:13.692467Z",
     "shell.execute_reply": "2021-10-24T15:25:13.693015Z",
     "shell.execute_reply.started": "2021-10-24T15:16:44.712961Z"
    },
    "papermill": {
     "duration": 0.044369,
     "end_time": "2021-10-24T15:25:13.693207",
     "exception": false,
     "start_time": "2021-10-24T15:25:13.648838",
     "status": "completed"
    },
    "tags": []
   },
   "outputs": [
    {
     "name": "stdout",
     "output_type": "stream",
     "text": [
      "<class 'pandas.core.frame.DataFrame'>\n",
      "RangeIndex: 5001 entries, 0 to 5000\n",
      "Data columns (total 8 columns):\n",
      " #   Column                     Non-Null Count  Dtype  \n",
      "---  ------                     --------------  -----  \n",
      " 0   long_hair                  5001 non-null   int64  \n",
      " 1   forehead_width_cm          5001 non-null   float64\n",
      " 2   forehead_height_cm         5001 non-null   float64\n",
      " 3   nose_wide                  5001 non-null   int64  \n",
      " 4   nose_long                  5001 non-null   int64  \n",
      " 5   lips_thin                  5001 non-null   int64  \n",
      " 6   distance_nose_to_lip_long  5001 non-null   int64  \n",
      " 7   gender                     5001 non-null   object \n",
      "dtypes: float64(2), int64(5), object(1)\n",
      "memory usage: 312.7+ KB\n"
     ]
    }
   ],
   "source": [
    "data.info()"
   ]
  },
  {
   "cell_type": "code",
   "execution_count": 4,
   "id": "c95def57",
   "metadata": {
    "execution": {
     "iopub.execute_input": "2021-10-24T15:25:13.728834Z",
     "iopub.status.busy": "2021-10-24T15:25:13.728167Z",
     "iopub.status.idle": "2021-10-24T15:25:13.735701Z",
     "shell.execute_reply": "2021-10-24T15:25:13.736270Z",
     "shell.execute_reply.started": "2021-10-24T15:17:07.126742Z"
    },
    "papermill": {
     "duration": 0.026955,
     "end_time": "2021-10-24T15:25:13.736449",
     "exception": false,
     "start_time": "2021-10-24T15:25:13.709494",
     "status": "completed"
    },
    "tags": []
   },
   "outputs": [
    {
     "data": {
      "text/plain": [
       "(5001, 8)"
      ]
     },
     "execution_count": 4,
     "metadata": {},
     "output_type": "execute_result"
    }
   ],
   "source": [
    "data.shape"
   ]
  },
  {
   "cell_type": "code",
   "execution_count": 5,
   "id": "bcfeb1e4",
   "metadata": {
    "execution": {
     "iopub.execute_input": "2021-10-24T15:25:13.772373Z",
     "iopub.status.busy": "2021-10-24T15:25:13.771646Z",
     "iopub.status.idle": "2021-10-24T15:25:13.788030Z",
     "shell.execute_reply": "2021-10-24T15:25:13.788625Z",
     "shell.execute_reply.started": "2021-10-24T15:17:27.520524Z"
    },
    "papermill": {
     "duration": 0.035956,
     "end_time": "2021-10-24T15:25:13.788808",
     "exception": false,
     "start_time": "2021-10-24T15:25:13.752852",
     "status": "completed"
    },
    "tags": []
   },
   "outputs": [
    {
     "data": {
      "text/html": [
       "<div>\n",
       "<style scoped>\n",
       "    .dataframe tbody tr th:only-of-type {\n",
       "        vertical-align: middle;\n",
       "    }\n",
       "\n",
       "    .dataframe tbody tr th {\n",
       "        vertical-align: top;\n",
       "    }\n",
       "\n",
       "    .dataframe thead th {\n",
       "        text-align: right;\n",
       "    }\n",
       "</style>\n",
       "<table border=\"1\" class=\"dataframe\">\n",
       "  <thead>\n",
       "    <tr style=\"text-align: right;\">\n",
       "      <th></th>\n",
       "      <th>long_hair</th>\n",
       "      <th>forehead_width_cm</th>\n",
       "      <th>forehead_height_cm</th>\n",
       "      <th>nose_wide</th>\n",
       "      <th>nose_long</th>\n",
       "      <th>lips_thin</th>\n",
       "      <th>distance_nose_to_lip_long</th>\n",
       "      <th>gender</th>\n",
       "    </tr>\n",
       "  </thead>\n",
       "  <tbody>\n",
       "    <tr>\n",
       "      <th>0</th>\n",
       "      <td>1</td>\n",
       "      <td>11.8</td>\n",
       "      <td>6.1</td>\n",
       "      <td>1</td>\n",
       "      <td>0</td>\n",
       "      <td>1</td>\n",
       "      <td>1</td>\n",
       "      <td>Male</td>\n",
       "    </tr>\n",
       "    <tr>\n",
       "      <th>1</th>\n",
       "      <td>0</td>\n",
       "      <td>14.0</td>\n",
       "      <td>5.4</td>\n",
       "      <td>0</td>\n",
       "      <td>0</td>\n",
       "      <td>1</td>\n",
       "      <td>0</td>\n",
       "      <td>Female</td>\n",
       "    </tr>\n",
       "    <tr>\n",
       "      <th>2</th>\n",
       "      <td>0</td>\n",
       "      <td>11.8</td>\n",
       "      <td>6.3</td>\n",
       "      <td>1</td>\n",
       "      <td>1</td>\n",
       "      <td>1</td>\n",
       "      <td>1</td>\n",
       "      <td>Male</td>\n",
       "    </tr>\n",
       "    <tr>\n",
       "      <th>3</th>\n",
       "      <td>0</td>\n",
       "      <td>14.4</td>\n",
       "      <td>6.1</td>\n",
       "      <td>0</td>\n",
       "      <td>1</td>\n",
       "      <td>1</td>\n",
       "      <td>1</td>\n",
       "      <td>Male</td>\n",
       "    </tr>\n",
       "    <tr>\n",
       "      <th>4</th>\n",
       "      <td>1</td>\n",
       "      <td>13.5</td>\n",
       "      <td>5.9</td>\n",
       "      <td>0</td>\n",
       "      <td>0</td>\n",
       "      <td>0</td>\n",
       "      <td>0</td>\n",
       "      <td>Female</td>\n",
       "    </tr>\n",
       "  </tbody>\n",
       "</table>\n",
       "</div>"
      ],
      "text/plain": [
       "   long_hair  forehead_width_cm  forehead_height_cm  nose_wide  nose_long  \\\n",
       "0          1               11.8                 6.1          1          0   \n",
       "1          0               14.0                 5.4          0          0   \n",
       "2          0               11.8                 6.3          1          1   \n",
       "3          0               14.4                 6.1          0          1   \n",
       "4          1               13.5                 5.9          0          0   \n",
       "\n",
       "   lips_thin  distance_nose_to_lip_long  gender  \n",
       "0          1                          1    Male  \n",
       "1          1                          0  Female  \n",
       "2          1                          1    Male  \n",
       "3          1                          1    Male  \n",
       "4          0                          0  Female  "
      ]
     },
     "execution_count": 5,
     "metadata": {},
     "output_type": "execute_result"
    }
   ],
   "source": [
    "data.head()"
   ]
  },
  {
   "cell_type": "code",
   "execution_count": 6,
   "id": "c205d498",
   "metadata": {
    "execution": {
     "iopub.execute_input": "2021-10-24T15:25:13.826320Z",
     "iopub.status.busy": "2021-10-24T15:25:13.825558Z",
     "iopub.status.idle": "2021-10-24T15:25:14.163388Z",
     "shell.execute_reply": "2021-10-24T15:25:14.162681Z",
     "shell.execute_reply.started": "2021-10-24T15:17:41.630769Z"
    },
    "papermill": {
     "duration": 0.357288,
     "end_time": "2021-10-24T15:25:14.163532",
     "exception": false,
     "start_time": "2021-10-24T15:25:13.806244",
     "status": "completed"
    },
    "tags": []
   },
   "outputs": [
    {
     "data": {
      "text/plain": [
       "<AxesSubplot:>"
      ]
     },
     "execution_count": 6,
     "metadata": {},
     "output_type": "execute_result"
    },
    {
     "data": {
      "image/png": "[encoded data removed]",
      "text/plain": [
       "<Figure size 432x288 with 1 Axes>"
      ]
     },
     "metadata": {
      "needs_background": "light"
     },
     "output_type": "display_data"
    }
   ],
   "source": [
    "data['gender'].value_counts().plot(kind='bar')"
   ]
  },
  {
   "cell_type": "code",
   "execution_count": 7,
   "id": "53758897",
   "metadata": {
    "execution": {
     "iopub.execute_input": "2021-10-24T15:25:14.207463Z",
     "iopub.status.busy": "2021-10-24T15:25:14.206769Z",
     "iopub.status.idle": "2021-10-24T15:25:14.208061Z",
     "shell.execute_reply": "2021-10-24T15:25:14.208659Z",
     "shell.execute_reply.started": "2021-10-24T15:17:50.411868Z"
    },
    "papermill": {
     "duration": 0.027547,
     "end_time": "2021-10-24T15:25:14.208845",
     "exception": false,
     "start_time": "2021-10-24T15:25:14.181298",
     "status": "completed"
    },
    "tags": []
   },
   "outputs": [],
   "source": [
    "X=data.iloc[:,:-1]\n",
    "y=data.iloc[:,-1]"
   ]
  },
  {
   "cell_type": "code",
   "execution_count": 8,
   "id": "79cd33ff",
   "metadata": {
    "execution": {
     "iopub.execute_input": "2021-10-24T15:25:14.247828Z",
     "iopub.status.busy": "2021-10-24T15:25:14.247134Z",
     "iopub.status.idle": "2021-10-24T15:25:14.376766Z",
     "shell.execute_reply": "2021-10-24T15:25:14.377335Z",
     "shell.execute_reply.started": "2021-10-24T15:17:59.608345Z"
    },
    "papermill": {
     "duration": 0.150862,
     "end_time": "2021-10-24T15:25:14.377530",
     "exception": false,
     "start_time": "2021-10-24T15:25:14.226668",
     "status": "completed"
    },
    "tags": []
   },
   "outputs": [],
   "source": [
    "from sklearn.preprocessing import LabelEncoder\n",
    "le = LabelEncoder()"
   ]
  },
  {
   "cell_type": "code",
   "execution_count": 9,
   "id": "e4dc904b",
   "metadata": {
    "execution": {
     "iopub.execute_input": "2021-10-24T15:25:14.420676Z",
     "iopub.status.busy": "2021-10-24T15:25:14.419977Z",
     "iopub.status.idle": "2021-10-24T15:25:14.422719Z",
     "shell.execute_reply": "2021-10-24T15:25:14.422051Z",
     "shell.execute_reply.started": "2021-10-24T15:18:06.40652Z"
    },
    "papermill": {
     "duration": 0.027422,
     "end_time": "2021-10-24T15:25:14.422873",
     "exception": false,
     "start_time": "2021-10-24T15:25:14.395451",
     "status": "completed"
    },
    "tags": []
   },
   "outputs": [],
   "source": [
    "y=le.fit_transform(y)"
   ]
  },
  {
   "cell_type": "code",
   "execution_count": 10,
   "id": "1c167a03",
   "metadata": {
    "execution": {
     "iopub.execute_input": "2021-10-24T15:25:14.464067Z",
     "iopub.status.busy": "2021-10-24T15:25:14.463292Z",
     "iopub.status.idle": "2021-10-24T15:25:14.525039Z",
     "shell.execute_reply": "2021-10-24T15:25:14.525596Z",
     "shell.execute_reply.started": "2021-10-24T15:18:15.590884Z"
    },
    "papermill": {
     "duration": 0.085171,
     "end_time": "2021-10-24T15:25:14.525773",
     "exception": false,
     "start_time": "2021-10-24T15:25:14.440602",
     "status": "completed"
    },
    "tags": []
   },
   "outputs": [],
   "source": [
    "from sklearn.model_selection import train_test_split\n",
    "X_train, X_test, y_train, y_test = train_test_split(X, y, test_size = 0.2, random_state = 4)"
   ]
  },
  {
   "cell_type": "code",
   "execution_count": 11,
   "id": "65d6fcfe",
   "metadata": {
    "execution": {
     "iopub.execute_input": "2021-10-24T15:25:14.568588Z",
     "iopub.status.busy": "2021-10-24T15:25:14.564456Z",
     "iopub.status.idle": "2021-10-24T15:25:14.576925Z",
     "shell.execute_reply": "2021-10-24T15:25:14.576333Z",
     "shell.execute_reply.started": "2021-10-24T15:18:24.30953Z"
    },
    "papermill": {
     "duration": 0.033497,
     "end_time": "2021-10-24T15:25:14.577068",
     "exception": false,
     "start_time": "2021-10-24T15:25:14.543571",
     "status": "completed"
    },
    "tags": []
   },
   "outputs": [],
   "source": [
    "from sklearn.preprocessing import StandardScaler\n",
    "sc = StandardScaler(with_mean=False)\n",
    "X_train = sc.fit_transform(X_train)\n",
    "X_test = sc.transform(X_test)"
   ]
  },
  {
   "cell_type": "markdown",
   "id": "2c2918f0",
   "metadata": {},
   "source": [
    "# Logistic Regression"
   ]
  },
  {
   "cell_type": "code",
   "execution_count": 12,
   "id": "60e935da",
   "metadata": {
    "execution": {
     "iopub.execute_input": "2021-10-24T15:25:14.616191Z",
     "iopub.status.busy": "2021-10-24T15:25:14.615203Z",
     "iopub.status.idle": "2021-10-24T15:25:14.748074Z",
     "shell.execute_reply": "2021-10-24T15:25:14.748945Z",
     "shell.execute_reply.started": "2021-10-24T15:18:34.948126Z"
    },
    "papermill": {
     "duration": 0.154481,
     "end_time": "2021-10-24T15:25:14.749249",
     "exception": false,
     "start_time": "2021-10-24T15:25:14.594768",
     "status": "completed"
    },
    "tags": []
   },
   "outputs": [
    {
     "data": {
      "text/html": [
       "<style>#sk-container-id-1 {color: black;background-color: white;}#sk-container-id-1 pre{padding: 0;}#sk-container-id-1 div.sk-toggleable {background-color: white;}#sk-container-id-1 label.sk-toggleable__label {cursor: pointer;display: block;width: 100%;margin-bottom: 0;padding: 0.3em;box-sizing: border-box;text-align: center;}#sk-container-id-1 label.sk-toggleable__label-arrow:before {content: \"▸\";float: left;margin-right: 0.25em;color: #696969;}#sk-container-id-1 label.sk-toggleable__label-arrow:hover:before {color: black;}#sk-container-id-1 div.sk-estimator:hover label.sk-toggleable__label-arrow:before {color: black;}#sk-container-id-1 div.sk-toggleable__content {max-height: 0;max-width: 0;overflow: hidden;text-align: left;background-color: #f0f8ff;}#sk-container-id-1 div.sk-toggleable__content pre {margin: 0.2em;color: black;border-radius: 0.25em;background-color: #f0f8ff;}#sk-container-id-1 input.sk-toggleable__control:checked~div.sk-toggleable__content {max-height: 200px;max-width: 100%;overflow: auto;}#sk-container-id-1 input.sk-toggleable__control:checked~label.sk-toggleable__label-arrow:before {content: \"▾\";}#sk-container-id-1 div.sk-estimator input.sk-toggleable__control:checked~label.sk-toggleable__label {background-color: #d4ebff;}#sk-container-id-1 div.sk-label input.sk-toggleable__control:checked~label.sk-toggleable__label {background-color: #d4ebff;}#sk-container-id-1 input.sk-hidden--visually {border: 0;clip: rect(1px 1px 1px 1px);clip: rect(1px, 1px, 1px, 1px);height: 1px;margin: -1px;overflow: hidden;padding: 0;position: absolute;width: 1px;}#sk-container-id-1 div.sk-estimator {font-family: monospace;background-color: #f0f8ff;border: 1px dotted black;border-radius: 0.25em;box-sizing: border-box;margin-bottom: 0.5em;}#sk-container-id-1 div.sk-estimator:hover {background-color: #d4ebff;}#sk-container-id-1 div.sk-parallel-item::after {content: \"\";width: 100%;border-bottom: 1px solid gray;flex-grow: 1;}#sk-container-id-1 div.sk-label:hover label.sk-toggleable__label {background-color: #d4ebff;}#sk-container-id-1 div.sk-serial::before {content: \"\";position: absolute;border-left: 1px solid gray;box-sizing: border-box;top: 0;bottom: 0;left: 50%;z-index: 0;}#sk-container-id-1 div.sk-serial {display: flex;flex-direction: column;align-items: center;background-color: white;padding-right: 0.2em;padding-left: 0.2em;position: relative;}#sk-container-id-1 div.sk-item {position: relative;z-index: 1;}#sk-container-id-1 div.sk-parallel {display: flex;align-items: stretch;justify-content: center;background-color: white;position: relative;}#sk-container-id-1 div.sk-item::before, #sk-container-id-1 div.sk-parallel-item::before {content: \"\";position: absolute;border-left: 1px solid gray;box-sizing: border-box;top: 0;bottom: 0;left: 50%;z-index: -1;}#sk-container-id-1 div.sk-parallel-item {display: flex;flex-direction: column;z-index: 1;position: relative;background-color: white;}#sk-container-id-1 div.sk-parallel-item:first-child::after {align-self: flex-end;width: 50%;}#sk-container-id-1 div.sk-parallel-item:last-child::after {align-self: flex-start;width: 50%;}#sk-container-id-1 div.sk-parallel-item:only-child::after {width: 0;}#sk-container-id-1 div.sk-dashed-wrapped {border: 1px dashed gray;margin: 0 0.4em 0.5em 0.4em;box-sizing: border-box;padding-bottom: 0.4em;background-color: white;}#sk-container-id-1 div.sk-label label {font-family: monospace;font-weight: bold;display: inline-block;line-height: 1.2em;}#sk-container-id-1 div.sk-label-container {text-align: center;}#sk-container-id-1 div.sk-container {/* jupyter's `normalize.less` sets `[hidden] { display: none; }` but bootstrap.min.css set `[hidden] { display: none !important; }` so we also need the `!important` here to be able to override the default hidden behavior on the sphinx rendered scikit-learn.org. See: https://github.com/scikit-learn/scikit-learn/issues/21755 */display: inline-block !important;position: relative;}#sk-container-id-1 div.sk-text-repr-fallback {display: none;}</style><div id=\"sk-container-id-1\" class=\"sk-top-container\"><div class=\"sk-text-repr-fallback\"><pre>LogisticRegression(random_state=0)</pre><b>In a Jupyter environment, please rerun this cell to show the HTML representation or trust the notebook. <br />On GitHub, the HTML representation is unable to render, please try loading this page with nbviewer.org.</b></div><div class=\"sk-container\" hidden><div class=\"sk-item\"><div class=\"sk-estimator sk-toggleable\"><input class=\"sk-toggleable__control sk-hidden--visually\" id=\"sk-estimator-id-1\" type=\"checkbox\" checked><label for=\"sk-estimator-id-1\" class=\"sk-toggleable__label sk-toggleable__label-arrow\">LogisticRegression</label><div class=\"sk-toggleable__content\"><pre>LogisticRegression(random_state=0)</pre></div></div></div></div></div>"
      ],
      "text/plain": [
       "LogisticRegression(random_state=0)"
      ]
     },
     "execution_count": 12,
     "metadata": {},
     "output_type": "execute_result"
    }
   ],
   "source": [
    "from sklearn.linear_model import LogisticRegression\n",
    "classifier = LogisticRegression(random_state = 0)\n",
    "classifier.fit(X_train, y_train)"
   ]
  },
  {
   "cell_type": "code",
   "execution_count": 13,
   "id": "c4907553",
   "metadata": {
    "execution": {
     "iopub.execute_input": "2021-10-24T15:25:14.824806Z",
     "iopub.status.busy": "2021-10-24T15:25:14.823617Z",
     "iopub.status.idle": "2021-10-24T15:25:14.830383Z",
     "shell.execute_reply": "2021-10-24T15:25:14.831268Z",
     "shell.execute_reply.started": "2021-10-24T15:18:45.159636Z"
    },
    "papermill": {
     "duration": 0.048776,
     "end_time": "2021-10-24T15:25:14.831574",
     "exception": false,
     "start_time": "2021-10-24T15:25:14.782798",
     "status": "completed"
    },
    "tags": []
   },
   "outputs": [],
   "source": [
    "y_pred=classifier.predict(X_test)\n"
   ]
  },
  {
   "cell_type": "code",
   "execution_count": 14,
   "id": "ecc37605",
   "metadata": {
    "execution": {
     "iopub.execute_input": "2021-10-24T15:25:14.886646Z",
     "iopub.status.busy": "2021-10-24T15:25:14.885440Z",
     "iopub.status.idle": "2021-10-24T15:25:14.890302Z",
     "shell.execute_reply": "2021-10-24T15:25:14.891282Z",
     "shell.execute_reply.started": "2021-10-24T15:18:53.878197Z"
    },
    "papermill": {
     "duration": 0.02981,
     "end_time": "2021-10-24T15:25:14.891609",
     "exception": false,
     "start_time": "2021-10-24T15:25:14.861799",
     "status": "completed"
    },
    "tags": []
   },
   "outputs": [
    {
     "name": "stdout",
     "output_type": "stream",
     "text": [
      "[[1 1]\n",
      " [1 1]\n",
      " [0 0]\n",
      " ...\n",
      " [0 0]\n",
      " [0 0]\n",
      " [1 0]]\n"
     ]
    }
   ],
   "source": [
    "print(np.concatenate((y_pred.reshape(len(y_pred),1), y_test.reshape(len(y_test),1)),1))"
   ]
  },
  {
   "cell_type": "markdown",
   "id": "8d03f5ed",
   "metadata": {},
   "source": [
    "# To check accuracy using confusion matrix"
   ]
  },
  {
   "cell_type": "code",
   "execution_count": 15,
   "id": "6b6bacd8",
   "metadata": {
    "execution": {
     "iopub.execute_input": "2021-10-24T15:25:14.937164Z",
     "iopub.status.busy": "2021-10-24T15:25:14.936337Z",
     "iopub.status.idle": "2021-10-24T15:25:14.944866Z",
     "shell.execute_reply": "2021-10-24T15:25:14.945438Z",
     "shell.execute_reply.started": "2021-10-24T15:19:01.999161Z"
    },
    "papermill": {
     "duration": 0.034251,
     "end_time": "2021-10-24T15:25:14.945619",
     "exception": false,
     "start_time": "2021-10-24T15:25:14.911368",
     "status": "completed"
    },
    "tags": []
   },
   "outputs": [
    {
     "name": "stdout",
     "output_type": "stream",
     "text": [
      "[[465  15]\n",
      " [ 20 501]]\n"
     ]
    },
    {
     "data": {
      "text/plain": [
       "0.965034965034965"
      ]
     },
     "execution_count": 15,
     "metadata": {},
     "output_type": "execute_result"
    }
   ],
   "source": [
    "from sklearn.metrics import confusion_matrix, accuracy_score\n",
    "cm = confusion_matrix(y_test, y_pred)\n",
    "print(cm)\n",
    "accuracy_score(y_test, y_pred)"
   ]
  },
  {
   "cell_type": "code",
   "execution_count": 16,
   "id": "ef19257b",
   "metadata": {
    "execution": {
     "iopub.execute_input": "2021-10-24T15:25:14.987898Z",
     "iopub.status.busy": "2021-10-24T15:25:14.986856Z",
     "iopub.status.idle": "2021-10-24T15:25:17.306056Z",
     "shell.execute_reply": "2021-10-24T15:25:17.305423Z",
     "shell.execute_reply.started": "2021-10-24T15:19:10.966465Z"
    },
    "papermill": {
     "duration": 2.341556,
     "end_time": "2021-10-24T15:25:17.306231",
     "exception": false,
     "start_time": "2021-10-24T15:25:14.964675",
     "status": "completed"
    },
    "tags": []
   },
   "outputs": [],
   "source": [
    "from sklearn.model_selection import cross_val_score\n",
    "from sklearn.model_selection import RepeatedKFold\n",
    "cv = RepeatedKFold(n_splits=10, n_repeats=3, random_state=1)\n",
    "n_scores = cross_val_score(classifier, X_test, y_test, scoring='accuracy', cv=cv, n_jobs=-1, error_score='raise')"
   ]
  },
  {
   "cell_type": "code",
   "execution_count": 17,
   "id": "8eda4dad",
   "metadata": {
    "execution": {
     "iopub.execute_input": "2021-10-24T15:25:17.350663Z",
     "iopub.status.busy": "2021-10-24T15:25:17.349742Z",
     "iopub.status.idle": "2021-10-24T15:25:17.352909Z",
     "shell.execute_reply": "2021-10-24T15:25:17.353438Z",
     "shell.execute_reply.started": "2021-10-24T15:19:20.022755Z"
    },
    "papermill": {
     "duration": 0.028401,
     "end_time": "2021-10-24T15:25:17.353614",
     "exception": false,
     "start_time": "2021-10-24T15:25:17.325213",
     "status": "completed"
    },
    "tags": []
   },
   "outputs": [
    {
     "name": "stdout",
     "output_type": "stream",
     "text": [
      "accuracy: 0.964\n"
     ]
    }
   ],
   "source": [
    "print('accuracy: %.3f' % (np.mean(n_scores)))"
   ]
  },
  {
   "cell_type": "markdown",
   "id": "5a139980",
   "metadata": {
    "papermill": {
     "duration": 0.01893,
     "end_time": "2021-10-24T15:25:17.391677",
     "exception": false,
     "start_time": "2021-10-24T15:25:17.372747",
     "status": "completed"
    },
    "tags": []
   },
   "source": [
    "# KNN model"
   ]
  },
  {
   "cell_type": "code",
   "execution_count": 18,
   "id": "bdcbb229",
   "metadata": {},
   "outputs": [
    {
     "data": {
      "text/html": [
       "<style>#sk-container-id-2 {color: black;background-color: white;}#sk-container-id-2 pre{padding: 0;}#sk-container-id-2 div.sk-toggleable {background-color: white;}#sk-container-id-2 label.sk-toggleable__label {cursor: pointer;display: block;width: 100%;margin-bottom: 0;padding: 0.3em;box-sizing: border-box;text-align: center;}#sk-container-id-2 label.sk-toggleable__label-arrow:before {content: \"▸\";float: left;margin-right: 0.25em;color: #696969;}#sk-container-id-2 label.sk-toggleable__label-arrow:hover:before {color: black;}#sk-container-id-2 div.sk-estimator:hover label.sk-toggleable__label-arrow:before {color: black;}#sk-container-id-2 div.sk-toggleable__content {max-height: 0;max-width: 0;overflow: hidden;text-align: left;background-color: #f0f8ff;}#sk-container-id-2 div.sk-toggleable__content pre {margin: 0.2em;color: black;border-radius: 0.25em;background-color: #f0f8ff;}#sk-container-id-2 input.sk-toggleable__control:checked~div.sk-toggleable__content {max-height: 200px;max-width: 100%;overflow: auto;}#sk-container-id-2 input.sk-toggleable__control:checked~label.sk-toggleable__label-arrow:before {content: \"▾\";}#sk-container-id-2 div.sk-estimator input.sk-toggleable__control:checked~label.sk-toggleable__label {background-color: #d4ebff;}#sk-container-id-2 div.sk-label input.sk-toggleable__control:checked~label.sk-toggleable__label {background-color: #d4ebff;}#sk-container-id-2 input.sk-hidden--visually {border: 0;clip: rect(1px 1px 1px 1px);clip: rect(1px, 1px, 1px, 1px);height: 1px;margin: -1px;overflow: hidden;padding: 0;position: absolute;width: 1px;}#sk-container-id-2 div.sk-estimator {font-family: monospace;background-color: #f0f8ff;border: 1px dotted black;border-radius: 0.25em;box-sizing: border-box;margin-bottom: 0.5em;}#sk-container-id-2 div.sk-estimator:hover {background-color: #d4ebff;}#sk-container-id-2 div.sk-parallel-item::after {content: \"\";width: 100%;border-bottom: 1px solid gray;flex-grow: 1;}#sk-container-id-2 div.sk-label:hover label.sk-toggleable__label {background-color: #d4ebff;}#sk-container-id-2 div.sk-serial::before {content: \"\";position: absolute;border-left: 1px solid gray;box-sizing: border-box;top: 0;bottom: 0;left: 50%;z-index: 0;}#sk-container-id-2 div.sk-serial {display: flex;flex-direction: column;align-items: center;background-color: white;padding-right: 0.2em;padding-left: 0.2em;position: relative;}#sk-container-id-2 div.sk-item {position: relative;z-index: 1;}#sk-container-id-2 div.sk-parallel {display: flex;align-items: stretch;justify-content: center;background-color: white;position: relative;}#sk-container-id-2 div.sk-item::before, #sk-container-id-2 div.sk-parallel-item::before {content: \"\";position: absolute;border-left: 1px solid gray;box-sizing: border-box;top: 0;bottom: 0;left: 50%;z-index: -1;}#sk-container-id-2 div.sk-parallel-item {display: flex;flex-direction: column;z-index: 1;position: relative;background-color: white;}#sk-container-id-2 div.sk-parallel-item:first-child::after {align-self: flex-end;width: 50%;}#sk-container-id-2 div.sk-parallel-item:last-child::after {align-self: flex-start;width: 50%;}#sk-container-id-2 div.sk-parallel-item:only-child::after {width: 0;}#sk-container-id-2 div.sk-dashed-wrapped {border: 1px dashed gray;margin: 0 0.4em 0.5em 0.4em;box-sizing: border-box;padding-bottom: 0.4em;background-color: white;}#sk-container-id-2 div.sk-label label {font-family: monospace;font-weight: bold;display: inline-block;line-height: 1.2em;}#sk-container-id-2 div.sk-label-container {text-align: center;}#sk-container-id-2 div.sk-container {/* jupyter's `normalize.less` sets `[hidden] { display: none; }` but bootstrap.min.css set `[hidden] { display: none !important; }` so we also need the `!important` here to be able to override the default hidden behavior on the sphinx rendered scikit-learn.org. See: https://github.com/scikit-learn/scikit-learn/issues/21755 */display: inline-block !important;position: relative;}#sk-container-id-2 div.sk-text-repr-fallback {display: none;}</style><div id=\"sk-container-id-2\" class=\"sk-top-container\"><div class=\"sk-text-repr-fallback\"><pre>KNeighborsClassifier()</pre><b>In a Jupyter environment, please rerun this cell to show the HTML representation or trust the notebook. <br />On GitHub, the HTML representation is unable to render, please try loading this page with nbviewer.org.</b></div><div class=\"sk-container\" hidden><div class=\"sk-item\"><div class=\"sk-estimator sk-toggleable\"><input class=\"sk-toggleable__control sk-hidden--visually\" id=\"sk-estimator-id-2\" type=\"checkbox\" checked><label for=\"sk-estimator-id-2\" class=\"sk-toggleable__label sk-toggleable__label-arrow\">KNeighborsClassifier</label><div class=\"sk-toggleable__content\"><pre>KNeighborsClassifier()</pre></div></div></div></div></div>"
      ],
      "text/plain": [
       "KNeighborsClassifier()"
      ]
     },
     "execution_count": 18,
     "metadata": {},
     "output_type": "execute_result"
    }
   ],
   "source": [
    "from sklearn.neighbors import KNeighborsClassifier\n",
    "knn = KNeighborsClassifier(n_neighbors= 5)\n",
    "knn.fit(X_train,y_train)"
   ]
  },
  {
   "cell_type": "code",
   "execution_count": 19,
   "id": "9ce56a2f",
   "metadata": {},
   "outputs": [
    {
     "data": {
      "text/plain": [
       "array([1, 1, 0, ..., 0, 0, 1])"
      ]
     },
     "execution_count": 19,
     "metadata": {},
     "output_type": "execute_result"
    }
   ],
   "source": [
    "y_pred = knn.predict(X_test)\n",
    "y_pred"
   ]
  },
  {
   "cell_type": "code",
   "execution_count": 20,
   "id": "2c9709ca",
   "metadata": {},
   "outputs": [
    {
     "name": "stdout",
     "output_type": "stream",
     "text": [
      "[[464  16]\n",
      " [ 21 500]]\n"
     ]
    }
   ],
   "source": [
    "cm = confusion_matrix(y_test, y_pred)\n",
    "print(cm)\n"
   ]
  },
  {
   "cell_type": "code",
   "execution_count": 21,
   "id": "200eb497",
   "metadata": {},
   "outputs": [
    {
     "data": {
      "text/plain": [
       "<AxesSubplot:>"
      ]
     },
     "execution_count": 21,
     "metadata": {},
     "output_type": "execute_result"
    },
    {
     "data": {
      "image/png": "[encoded data removed]",
      "text/plain": [
       "<Figure size 432x288 with 2 Axes>"
      ]
     },
     "metadata": {
      "needs_background": "light"
     },
     "output_type": "display_data"
    }
   ],
   "source": [
    "sns.heatmap(cm,annot = True, fmt = \".0f\")"
   ]
  },
  {
   "cell_type": "code",
   "execution_count": 22,
   "id": "8de960fd",
   "metadata": {},
   "outputs": [
    {
     "name": "stdout",
     "output_type": "stream",
     "text": [
      "model_accuracy = 0.9630369630369631\n"
     ]
    }
   ],
   "source": [
    "print(\"model_accuracy =\",accuracy_score(y_test, y_pred))"
   ]
  },
  {
   "cell_type": "code",
   "execution_count": 23,
   "id": "4873221a",
   "metadata": {},
   "outputs": [
    {
     "data": {
      "image/png": "[encoded data removed]",
      "text/plain": [
       "<Figure size 432x288 with 1 Axes>"
      ]
     },
     "metadata": {
      "needs_background": "light"
     },
     "output_type": "display_data"
    }
   ],
   "source": [
    "score_list = []\n",
    "for k in range(1,15):\n",
    "    knn= KNeighborsClassifier(n_neighbors =k)\n",
    "    knn.fit(X_train, y_train)\n",
    "    score_list.append(knn.score(X_test, y_test))\n",
    "\n",
    "plt.plot(range(1,15), score_list)\n",
    "plt.xlabel(\"k values\")\n",
    "plt.ylabel(\"Accuracy\")\n",
    "plt.show()"
   ]
  }
 ],
 "metadata": {
  "kernelspec": {
   "display_name": "Python 3 (ipykernel)",
   "language": "python",
   "name": "python3"
  },
  "language_info": {
   "codemirror_mode": {
    "name": "ipython",
    "version": 3
   },
   "file_extension": ".py",
   "mimetype": "text/x-python",
   "name": "python",
   "nbconvert_exporter": "python",
   "pygments_lexer": "ipython3",
   "version": "3.9.7"
  },
  "papermill": {
   "default_parameters": {},
   "duration": 15.224488,
   "end_time": "2021-10-24T15:25:18.222861",
   "environment_variables": {},
   "exception": null,
   "input_path": "__notebook__.ipynb",
   "output_path": "__notebook__.ipynb",
   "parameters": {},
   "start_time": "2021-10-24T15:25:02.998373",
   "version": "2.3.3"
  }
 },
 "nbformat": 4,
 "nbformat_minor": 5
}
